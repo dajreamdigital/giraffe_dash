{
 "cells": [
  {
   "cell_type": "code",
   "execution_count": 5,
   "metadata": {
    "collapsed": false
   },
   "outputs": [
    {
     "name": "stdout",
     "output_type": "stream",
     "text": [
      "Database version : 5.6.26 \n"
     ]
    }
   ],
   "source": [
    "import sys\n",
    "import MySQLdb as mdb\n",
    "from pandas.io.sql import read_sql\n",
    "import pandas as pd\n",
    "\n",
    "\n",
    "\n",
    "try:\n",
    "    con = mdb.connect('localhost', 'root', '', 'sakila');\n",
    "\n",
    "    cur = con.cursor()\n",
    "    cur.execute(\"SELECT VERSION()\")\n",
    "\n",
    "    ver = cur.fetchone()\n",
    "    \n",
    "    print \"Database version : %s \" % ver\n",
    "    \n",
    "except mdb.Error, e:\n",
    "  \n",
    "    print \"Error %d: %s\" % (e.args[0],e.args[1])\n",
    "    sys.exit(1)\n",
    "\n"
   ]
  },
  {
   "cell_type": "code",
   "execution_count": 6,
   "metadata": {
    "collapsed": false
   },
   "outputs": [
    {
     "name": "stdout",
     "output_type": "stream",
     "text": [
      "(Decimal('2.99'), datetime.datetime(2005, 5, 24, 22, 53, 30))\n",
      "(Decimal('2.99'), datetime.datetime(2005, 5, 24, 22, 54, 33))\n",
      "(Decimal('3.99'), datetime.datetime(2005, 5, 24, 23, 3, 39))\n",
      "(Decimal('4.99'), datetime.datetime(2005, 5, 24, 23, 4, 41))\n",
      "(Decimal('6.99'), datetime.datetime(2005, 5, 24, 23, 5, 21))\n",
      "(Decimal('0.99'), datetime.datetime(2005, 5, 24, 23, 8, 7))\n",
      "(Decimal('1.99'), datetime.datetime(2005, 5, 24, 23, 11, 53))\n",
      "(Decimal('4.99'), datetime.datetime(2005, 5, 24, 23, 31, 46))\n",
      "(Decimal('4.99'), datetime.datetime(2005, 5, 25, 0, 0, 40))\n",
      "(Decimal('5.99'), datetime.datetime(2005, 5, 25, 0, 2, 21))\n",
      "(Decimal('8.99'), datetime.datetime(2005, 5, 25, 0, 9, 2))\n",
      "(Decimal('4.99'), datetime.datetime(2005, 5, 25, 0, 19, 27))\n",
      "(Decimal('6.99'), datetime.datetime(2005, 5, 25, 0, 22, 55))\n",
      "(Decimal('0.99'), datetime.datetime(2005, 5, 25, 0, 31, 15))\n",
      "(Decimal('9.99'), datetime.datetime(2005, 5, 25, 0, 39, 22))\n",
      "(Decimal('4.99'), datetime.datetime(2005, 5, 25, 0, 43, 11))\n",
      "(Decimal('2.99'), datetime.datetime(2005, 5, 25, 1, 6, 36))\n",
      "(Decimal('0.99'), datetime.datetime(2005, 5, 25, 1, 10, 47))\n",
      "(Decimal('4.99'), datetime.datetime(2005, 5, 25, 1, 17, 24))\n",
      "(Decimal('2.99'), datetime.datetime(2005, 5, 25, 1, 48, 41))\n",
      "(Decimal('4.99'), datetime.datetime(2005, 5, 25, 1, 59, 46))\n",
      "(Decimal('4.99'), datetime.datetime(2005, 5, 25, 2, 19, 23))\n",
      "(Decimal('4.99'), datetime.datetime(2005, 5, 25, 2, 40, 21))\n",
      "(Decimal('4.99'), datetime.datetime(2005, 5, 25, 2, 53, 2))\n",
      "(Decimal('0.99'), datetime.datetime(2005, 5, 25, 3, 21, 20))\n",
      "(Decimal('3.99'), datetime.datetime(2005, 5, 25, 3, 36, 50))\n",
      "(Decimal('4.99'), datetime.datetime(2005, 5, 25, 3, 41, 50))\n",
      "(Decimal('4.99'), datetime.datetime(2005, 5, 25, 3, 42, 37))\n",
      "(Decimal('0.99'), datetime.datetime(2005, 5, 25, 3, 47, 12))\n",
      "(Decimal('2.99'), datetime.datetime(2005, 5, 25, 4, 1, 32))\n",
      "(Decimal('4.99'), datetime.datetime(2005, 5, 25, 4, 5, 17))\n",
      "(Decimal('0.99'), datetime.datetime(2005, 5, 25, 4, 6, 21))\n",
      "(Decimal('0.99'), datetime.datetime(2005, 5, 25, 4, 18, 51))\n",
      "(Decimal('2.99'), datetime.datetime(2005, 5, 25, 4, 19, 28))\n",
      "(Decimal('4.99'), datetime.datetime(2005, 5, 25, 4, 24, 36))\n",
      "(Decimal('2.99'), datetime.datetime(2005, 5, 25, 4, 36, 26))\n",
      "(Decimal('0.99'), datetime.datetime(2005, 5, 25, 4, 44, 31))\n",
      "(Decimal('4.99'), datetime.datetime(2005, 5, 25, 4, 47, 44))\n",
      "(Decimal('0.99'), datetime.datetime(2005, 5, 25, 4, 51, 46))\n",
      "(Decimal('4.99'), datetime.datetime(2005, 5, 25, 5, 9, 4))\n",
      "(Decimal('5.99'), datetime.datetime(2005, 5, 25, 5, 12, 29))\n",
      "(Decimal('4.99'), datetime.datetime(2005, 5, 25, 5, 24, 58))\n",
      "(Decimal('2.99'), datetime.datetime(2005, 5, 25, 5, 39, 25))\n",
      "(Decimal('0.99'), datetime.datetime(2005, 5, 25, 5, 53, 23))\n",
      "(Decimal('7.99'), datetime.datetime(2005, 5, 25, 5, 59, 39))\n",
      "(Decimal('5.99'), datetime.datetime(2005, 5, 25, 6, 4, 8))\n",
      "(Decimal('3.99'), datetime.datetime(2005, 5, 25, 6, 5, 20))\n",
      "(Decimal('1.99'), datetime.datetime(2005, 5, 25, 6, 20, 46))\n",
      "(Decimal('2.99'), datetime.datetime(2005, 5, 25, 6, 39, 35))\n",
      "(Decimal('2.99'), datetime.datetime(2005, 5, 25, 6, 44, 53))\n"
     ]
    }
   ],
   "source": [
    "cur.execute('select sum(amount), payment_date  from payment group by payment_date limit 50;')\n",
    "\n",
    "for row in cur.fetchall():\n",
    "    print(row)\n",
    "\n",
    "con.close()"
   ]
  },
  {
   "cell_type": "code",
   "execution_count": null,
   "metadata": {
    "collapsed": true
   },
   "outputs": [],
   "source": []
  }
 ],
 "metadata": {
  "kernelspec": {
   "display_name": "Python 2",
   "language": "python",
   "name": "python2"
  },
  "language_info": {
   "codemirror_mode": {
    "name": "ipython",
    "version": 2
   },
   "file_extension": ".py",
   "mimetype": "text/x-python",
   "name": "python",
   "nbconvert_exporter": "python",
   "pygments_lexer": "ipython2",
   "version": "2.7.10"
  }
 },
 "nbformat": 4,
 "nbformat_minor": 0
}
